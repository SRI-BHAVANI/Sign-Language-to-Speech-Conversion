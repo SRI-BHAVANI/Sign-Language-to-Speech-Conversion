{
 "cells": [
  {
   "cell_type": "code",
   "execution_count": 1,
   "metadata": {},
   "outputs": [],
   "source": [
    "import os\n",
    "import cv2\n",
    "import time"
   ]
  },
  {
   "cell_type": "code",
   "execution_count": 2,
   "metadata": {},
   "outputs": [],
   "source": [
    "dataset_path='Dataset'\n",
    "labels=['Hello','Help','Hurt','LoveYou','No','one','Phone','Please','ThankYou','Yes']\n",
    "no_of_imgs=20 "
   ]
  },
  {
   "cell_type": "code",
   "execution_count": 3,
   "metadata": {},
   "outputs": [
    {
     "name": "stdout",
     "output_type": "stream",
     "text": [
      "Collecting images for Hello\n",
      "Collecting images for Help\n",
      "Collecting images for Hurt\n",
      "Collecting images for LoveYou\n",
      "Collecting images for No\n",
      "Collecting images for one\n",
      "Collecting images for Phone\n",
      "Collecting images for Please\n",
      "Collecting images for ThankYou\n",
      "Collecting images for Yes\n"
     ]
    }
   ],
   "source": [
    "for label in labels:\n",
    "    webcam=cv2.VideoCapture(0)\n",
    "    print('Collecting images for {}'.format(label))\n",
    "    time.sleep(5)\n",
    "    i=1\n",
    "    for imgnum in range(no_of_imgs):\n",
    "        ret,frame=webcam.read()\n",
    "        imagename=os.path.join(dataset_path,label,label+'_'+'{}.jpg'.format(i))\n",
    "        cv2.imwrite(imagename,frame)\n",
    "        cv2.imshow('collecting for '+label,frame)\n",
    "        i=i+1\n",
    "        time.sleep(3)\n",
    "        key=cv2.waitKey(10)\n",
    "        \n",
    "        if key==ord('q') | key==ord('Q'):\n",
    "            break\n",
    "    webcam.release()\n",
    "    cv2.destroyAllWindows()\n",
    "        "
   ]
  },
  {
   "cell_type": "code",
   "execution_count": null,
   "metadata": {},
   "outputs": [],
   "source": []
  },
  {
   "cell_type": "code",
   "execution_count": null,
   "metadata": {},
   "outputs": [],
   "source": []
  },
  {
   "cell_type": "code",
   "execution_count": null,
   "metadata": {},
   "outputs": [],
   "source": []
  },
  {
   "cell_type": "code",
   "execution_count": null,
   "metadata": {},
   "outputs": [],
   "source": []
  }
 ],
 "metadata": {
  "kernelspec": {
   "display_name": "Python 3",
   "language": "python",
   "name": "python3"
  },
  "language_info": {
   "codemirror_mode": {
    "name": "ipython",
    "version": 3
   },
   "file_extension": ".py",
   "mimetype": "text/x-python",
   "name": "python",
   "nbconvert_exporter": "python",
   "pygments_lexer": "ipython3",
   "version": "3.7.3"
  }
 },
 "nbformat": 4,
 "nbformat_minor": 2
}
